{
 "cells": [
  {
   "cell_type": "code",
   "execution_count": 121,
   "metadata": {},
   "outputs": [],
   "source": [
    "import numpy as np\n",
    "import math\n",
    "\n",
    "# initial distribution\n",
    "#please insert the parameter specific to this distribution\n",
    "def fdistrib(t,typ):\n",
    "    if typ == \"gauss\":\n",
    "        mu = 0\n",
    "        sigma = 1\n",
    "        if t != 0:\n",
    "            fdistrib = np.exp(complex(0,t*mu)-(1/2)*t**2*sigma**2)\n",
    "        else:\n",
    "            fdistrib = 1\n",
    "            \n",
    "    elif typ == \"chi\":\n",
    "        n=2\n",
    "        fdistrib = 1/(1-complex(0,2*t))**(n/2)\n",
    "        \n",
    "    elif typ == \"uniform\":\n",
    "        a = 2\n",
    "        b = 5\n",
    "        if t != 0:\n",
    "            fdistrib = (np.exp(complex(0,t*b))-np.exp(complex(0,t*a)))/(complex(0,t*(b-a)))\n",
    "        else:\n",
    "            fdistrib = 0\n",
    "            \n",
    "    elif typ == \"heaveside\":\n",
    "        a = 2\n",
    "        fdistrib = np.exp(complex(0,t*a))\n",
    "        \n",
    "    elif typ == \"triangle\":\n",
    "        if t != 0:\n",
    "            fdistrib = (math.sin(t/2)/(t/2))**2\n",
    "        else:\n",
    "            fdistrib = 1\n",
    "    else:\n",
    "        print(\"wrong type\")\n",
    "        fdistrib = 1\n",
    "        \n",
    "    return fdistrib\n",
    "\n",
    "# Fourier coefficient\n",
    "def Fk(b,a,k,typ):\n",
    "    Fk = (2/(b-a))*np.real(fdistrib(k*np.pi/(b-a),typ)*np.exp(complex(0,-k*a*np.pi/(b-a))))\n",
    "    \n",
    "    return(Fk)\n",
    "\n",
    "#fourier series\n",
    "def f(N,b,a,x,typ):\n",
    "    f = 0 \n",
    "    theta = (x-a)*np.pi/(b-a)\n",
    "    for k in range(N):\n",
    "        if k == 0 :\n",
    "            #add the half coeff when k=0\n",
    "            f = f+(1/2)*Fk(b,a,k,typ)*math.cos(k*theta)\n",
    "        else:\n",
    "            f = f+Fk(b,a,k,typ)*math.cos(k*theta)\n",
    "    return f\n",
    "\n",
    "\n",
    "\n",
    "\n",
    "# parameters \n",
    "x = np.arange(-5,5,0.1)\n",
    "N = 100\n",
    "a = -3\n",
    "b = 3\n",
    "\n",
    "# get the distribution \n",
    "F = list()\n",
    "for i in range(len(x)):\n",
    "    F.append(f(N,b,a,x[i],\"chi\"))"
   ]
  },
  {
   "cell_type": "code",
   "execution_count": 122,
   "metadata": {},
   "outputs": [
    {
     "data": {
      "image/png": "[encoded data removed]",
      "text/plain": [
       "<matplotlib.figure.Figure at 0x154659ac8>"
      ]
     },
     "metadata": {},
     "output_type": "display_data"
    }
   ],
   "source": [
    "plt.plot(x,F)\n",
    "plt.show()"
   ]
  },
  {
   "cell_type": "code",
   "execution_count": null,
   "metadata": {},
   "outputs": [],
   "source": []
  }
 ],
 "metadata": {
  "kernelspec": {
   "display_name": "Python 3",
   "language": "python",
   "name": "python3"
  },
  "language_info": {
   "codemirror_mode": {
    "name": "ipython",
    "version": 3
   },
   "file_extension": ".py",
   "mimetype": "text/x-python",
   "name": "python",
   "nbconvert_exporter": "python",
   "pygments_lexer": "ipython3",
   "version": "3.6.4"
  }
 },
 "nbformat": 4,
 "nbformat_minor": 2
}
