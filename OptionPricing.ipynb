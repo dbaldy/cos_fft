{
 "cells": [
  {
   "cell_type": "code",
   "execution_count": 28,
   "metadata": {},
   "outputs": [
    {
     "name": "stdout",
     "output_type": "stream",
     "text": [
      "11.7463912745\n"
     ]
    }
   ],
   "source": [
    "import numpy as np\n",
    "import math\n",
    "import matplotlib.pyplot as plt\n",
    "\n",
    "# initial distribution (Q: is the Geometric Brownian motion Normally or Lognormally distributed ??)\n",
    "def NormalDistribution(x, mu, sigma):\n",
    "    return np.exp(complex(0, x * mu) - (1 / 2) * x ** 2 * sigma ** 2)\n",
    "\n",
    "def Chi(k, c, d, a, b):\n",
    "    return 1 / (1 + ((k * math.pi) / (b - a)) ** 2) * (math.cos(k * math.pi * (d - a)/(b - a))* np.exp(d) -\n",
    "            math.cos(k * math.pi * (c - a)/(b - a)) * np.exp(c) + ((k * math.pi) / (b - a)) *\n",
    "            math.sin(k * math.pi * (d - a)/(b - a)) * np.exp(d) - ((k * math.pi)/(b - a)) *\n",
    "            math.sin(k * math.pi * (c - a)/(b - a)) * np.exp(c))\n",
    "\n",
    "def Psi(k, c, d, a, b):\n",
    "    if k == 0:\n",
    "        return d - c\n",
    "    else:\n",
    "        return (b - a)/(k * math.pi) * (math.sin(k * math.pi * (d - a)/(b - a)) - math.sin(k * math.pi * (c - a)/(b - a)))\n",
    "\n",
    "# t0 est toujours 0\n",
    "def CallPrice(current_price, maturity, interest_rate, strike, mu, sigma, fdistrib):  \n",
    "    # Parameters\n",
    "    c_1 = mu * maturity\n",
    "    c_2 = sigma ** 2 * maturity\n",
    "    L = 10\n",
    "    c_4 = 0\n",
    "\n",
    "    a = c_1 - L * math.sqrt(c_2 + math.sqrt(c_4))\n",
    "    b = c_1 + L * math.sqrt(c_2 + math.sqrt(c_4))\n",
    "    x = math.log(current_price / strike)\n",
    "    tau = maturity / N\n",
    "    call_price = 0\n",
    "    for k in range(0, N - 1):\n",
    "        v_k = 2 / (b - a) * strike * (Chi(k, 0, b, a, b) - Psi(k, 0, b, a, b))\n",
    "        call_price += np.real(fdistrib(k * np.pi/(b - a), mu, sigma) * np.exp(complex(0, -k * a * np.pi / (b - a)))) * v_k\n",
    "        if k == 0:\n",
    "            call_price *= 1 / 2\n",
    "    return call_price * math.exp(-interest_rate * tau)\n",
    " \n",
    "N = 100\n",
    "print(CallPrice(100, 0.1, 0.1, 100, 0, 0.25, NormalDistribution))\n",
    "# x = np.arange(-5,5,0.1)\n",
    "# N = 100\n",
    "\n",
    "# get the distribution \n",
    "# F = list()\n",
    "# for i in range(len(x)):\n",
    "#     F.append(f(N,b,a,x[i],\"chi\"))"
   ]
  },
  {
   "cell_type": "code",
   "execution_count": null,
   "metadata": {},
   "outputs": [],
   "source": [
    "x = np.arange(, b, 0.1)\n",
    "ProbFunctionv= np.vectorize(ProbFunction)\n",
    "plt.plot(x, ProbFunctionv(x,N,a,b,mu,sigma))"
   ]
  },
  {
   "cell_type": "code",
   "execution_count": null,
   "metadata": {
    "collapsed": true
   },
   "outputs": [],
   "source": []
  },
  {
   "cell_type": "code",
   "execution_count": null,
   "metadata": {
    "collapsed": true
   },
   "outputs": [],
   "source": []
  }
 ],
 "metadata": {
  "kernelspec": {
   "display_name": "Python 3",
   "language": "python",
   "name": "python3"
  },
  "language_info": {
   "codemirror_mode": {
    "name": "ipython",
    "version": 3
   },
   "file_extension": ".py",
   "mimetype": "text/x-python",
   "name": "python",
   "nbconvert_exporter": "python",
   "pygments_lexer": "ipython3",
   "version": "3.6.3"
  }
 },
 "nbformat": 4,
 "nbformat_minor": 2
}
